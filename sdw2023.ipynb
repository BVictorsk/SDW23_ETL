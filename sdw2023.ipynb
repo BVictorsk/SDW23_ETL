{
  "nbformat": 4,
  "nbformat_minor": 0,
  "metadata": {
    "colab": {
      "provenance": [],
      "collapsed_sections": [
        "cSruViWw3rgv"
      ],
      "authorship_tag": "ABX9TyOjhoqsdqEDaKowci3lCEuJ",
      "include_colab_link": true
    },
    "kernelspec": {
      "name": "python3",
      "display_name": "Python 3"
    },
    "language_info": {
      "name": "python"
    }
  },
  "cells": [
    {
      "cell_type": "markdown",
      "metadata": {
        "id": "view-in-github",
        "colab_type": "text"
      },
      "source": [
        "<a href=\"https://colab.research.google.com/github/BVictorsk/SDW23_ETL/blob/main/sdw2023.ipynb\" target=\"_parent\"><img src=\"https://colab.research.google.com/assets/colab-badge.svg\" alt=\"Open In Colab\"/></a>"
      ]
    },
    {
      "cell_type": "markdown",
      "source": [
        "# Projeto de Pipeline de ETL para Acompanhamento de Gastos Pessoais"
      ],
      "metadata": {
        "id": "05MRCIgY3Ck3"
      }
    },
    {
      "cell_type": "markdown",
      "source": [
        "**Contexto:** Este projeto tem como objetivo criar um Pipeline de ETL (Extração, Transformação e Carga) no ambiente do Google Colab para realizar o acompanhamento de gastos pessoais. O acompanhamento de gastos é uma prática importante para manter o controle financeiro e tomar decisões informadas sobre finanças pessoais."
      ],
      "metadata": {
        "id": "1ESHTRlZ3Ohm"
      }
    },
    {
      "cell_type": "markdown",
      "source": [
        "**Processos de ETL**\n",
        "\n",
        "**E**xtract:\n",
        "> Nesta fase, vamos extrair os dados de um arquivo CSV que contém informações sobre os gastos pessoais. O arquivo CSV pode ser obtido a partir de fontes como aplicativos bancários, planilhas ou outras fontes de registro de despesas. Vamos usar bibliotecas Python para importar esses dados no ambiente do Google Colab.\n",
        "\n",
        "**T**ransform:\n",
        ">Uma vez que os dados tenham sido extraídos, realizaremos diversas transformações para prepará-los para análise. Isso pode incluir limpeza de dados, conversão de tipos, agregação e cálculos para criar métricas relevantes. Por exemplo, podemos calcular despesas totais por categoria, médias mensais de gastos e outras estatísticas úteis.\n",
        "\n",
        "**L**oad:\n",
        ">Após a transformação dos dados, vamos carregá-los em um local de armazenamento adequado. Isso pode ser um banco de dados, uma planilha, ou outro formato de armazenamento que facilite a consulta e a análise dos dados no futuro."
      ],
      "metadata": {
        "id": "cSruViWw3rgv"
      }
    },
    {
      "cell_type": "markdown",
      "source": [
        "**Objetivos do Projeto**\n",
        "\n",
        "- Controle financeiro: Acompanhar os gastos pessoais ajuda a controlar despesas e evitar o endividamento excessivo.\n",
        "- Tomada de decisões informadas: Com dados concretos sobre seus gastos, você pode tomar decisões financeiras mais bem embasadas.\n",
        "- Aprendizado de ETL: Este projeto oferece uma oportunidade de aprender sobre o processo de Extração, Transformação e Carga de dados, uma habilidade valiosa em ciência de dados e análise de dados."
      ],
      "metadata": {
        "id": "lQW2vdHK4zG3"
      }
    },
    {
      "cell_type": "markdown",
      "source": [
        "## Preparação do ambiente"
      ],
      "metadata": {
        "id": "HZeeAUZl5OQ-"
      }
    },
    {
      "cell_type": "markdown",
      "source": [
        "### Importando Bibliotecas"
      ],
      "metadata": {
        "id": "wWfdxvIo6bhG"
      }
    },
    {
      "cell_type": "code",
      "source": [
        "import pandas as pd"
      ],
      "metadata": {
        "id": "hKQLEpfD6m-2"
      },
      "execution_count": 64,
      "outputs": []
    },
    {
      "cell_type": "markdown",
      "source": [
        "### Criação de DataFrame"
      ],
      "metadata": {
        "id": "JBhPH5rEQGi5"
      }
    },
    {
      "cell_type": "code",
      "source": [
        "arquivo_csv = '/content/sdw23.csv'\n",
        "df = pd.read_csv(arquivo_csv)\n",
        "print(df)"
      ],
      "metadata": {
        "colab": {
          "base_uri": "https://localhost:8080/"
        },
        "id": "CMPoSs6fQRb7",
        "outputId": "5ddf1269-bd4c-4319-b343-eae8ddbfaa25"
      },
      "execution_count": 65,
      "outputs": [
        {
          "output_type": "stream",
          "name": "stdout",
          "text": [
            "          Data          Categoria   Valor\n",
            "0   2023-01-02        Alimentação   50.00\n",
            "1   2023-01-03              Lazer   45.50\n",
            "2   2023-01-03        Alimentação   65.70\n",
            "3   2023-01-03      Conta de água  155.76\n",
            "4   2023-01-02        Alimentação  150.20\n",
            "5   2023-01-06   Conta de energia  185.00\n",
            "6   2023-01-07  Conta de internet  126.99\n",
            "7   2023-01-08         Transporte   30.00\n",
            "8   2023-01-15        Alimentação  200.20\n",
            "9   2023-01-20  Cartão de crédito  650.00\n",
            "10  2023-02-03        Alimentação  350.40\n",
            "11  2023-02-03              Lazer   75.00\n",
            "12  2023-02-03      Conta de água  135.90\n",
            "13  2023-02-07  Conta de internet  127.00\n",
            "14  2023-02-03              Lazer     NaN\n",
            "15  2023-01-06   Conta de energia  195.00\n",
            "16  2023-02-08         Transporte   60.00\n",
            "17  2023-03-01        Alimentação  555.00\n",
            "18  2023-03-01                NaN  700.00\n",
            "19  2023-03-03        Alimentação  350.40\n",
            "20  2023-03-03              Lazer  100.00\n",
            "21  2023-03-03      Conta de água  135.90\n",
            "22  2023-03-07  Conta de internet  127.00\n",
            "23  2023-03-03              Lazer   45.00\n",
            "24  2023-03-06   Conta de energia  195.00\n",
            "25  2023-03-08         Transporte   60.00\n"
          ]
        }
      ]
    },
    {
      "cell_type": "markdown",
      "source": [
        "## Transformação dos Dados"
      ],
      "metadata": {
        "id": "fs5GZmrsVOYU"
      }
    },
    {
      "cell_type": "markdown",
      "source": [
        "### Transformação de dados com assitencia do ChatGPT"
      ],
      "metadata": {
        "id": "JlnyWM9Eb-0z"
      }
    },
    {
      "cell_type": "markdown",
      "source": [
        "***Caso deseje utilizar o chat gpt para assistencia na Limpeza , Agregação, Filtragem dos dados***\n",
        "\n",
        "```\n",
        "api_key = 'sua chave'\n",
        "\n",
        "# Função para obter assistência do ChatGPT\n",
        "def get_help(texto):\n",
        "    answer = openai.Completion.create(\n",
        "        engine=\"text-davinci-002\",\n",
        "        prompt=texto,\n",
        "        max_tokens=50,  # Ajuste o número de tokens conforme necessário\n",
        "        api_key=api_key\n",
        "    )\n",
        "    return answer.choices[0].text\n",
        "\n",
        "# Exemplo de uso para obter assistência na transformação dos dados\n",
        "example_text = \"Preciso de ajuda para limpar os valores ausentes no meu conjunto de dados.\"\n",
        "help = get_help(example_text)\n",
        "print(assistencia)\n",
        "```\n",
        "\n",
        "\n"
      ],
      "metadata": {
        "id": "CFnsz-SfanaK"
      }
    },
    {
      "cell_type": "markdown",
      "source": [
        "### Transformação Manual"
      ],
      "metadata": {
        "id": "bUYXDX6ScHiz"
      }
    },
    {
      "cell_type": "markdown",
      "source": [
        "***Limpeza de dados:*** Caso possua linhas com valores ausentes, essas serão removidas"
      ],
      "metadata": {
        "id": "YcPPWANWcOTT"
      }
    },
    {
      "cell_type": "code",
      "source": [
        "df.dropna(inplace=True)\n",
        "print(df)"
      ],
      "metadata": {
        "colab": {
          "base_uri": "https://localhost:8080/"
        },
        "id": "mKiByNrDcoQy",
        "outputId": "0f0747ec-7721-4d44-bebf-20760dc4b8cf"
      },
      "execution_count": 69,
      "outputs": [
        {
          "output_type": "stream",
          "name": "stdout",
          "text": [
            "          Data          Categoria   Valor\n",
            "0   2023-01-02        Alimentação   50.00\n",
            "1   2023-01-03              Lazer   45.50\n",
            "2   2023-01-03        Alimentação   65.70\n",
            "3   2023-01-03      Conta de água  155.76\n",
            "4   2023-01-02        Alimentação  150.20\n",
            "5   2023-01-06   Conta de energia  185.00\n",
            "6   2023-01-07  Conta de internet  126.99\n",
            "7   2023-01-08         Transporte   30.00\n",
            "8   2023-01-15        Alimentação  200.20\n",
            "9   2023-01-20  Cartão de crédito  650.00\n",
            "10  2023-02-03        Alimentação  350.40\n",
            "11  2023-02-03              Lazer   75.00\n",
            "12  2023-02-03      Conta de água  135.90\n",
            "13  2023-02-07  Conta de internet  127.00\n",
            "15  2023-01-06   Conta de energia  195.00\n",
            "16  2023-02-08         Transporte   60.00\n",
            "17  2023-03-01        Alimentação  555.00\n",
            "19  2023-03-03        Alimentação  350.40\n",
            "20  2023-03-03              Lazer  100.00\n",
            "21  2023-03-03      Conta de água  135.90\n",
            "22  2023-03-07  Conta de internet  127.00\n",
            "23  2023-03-03              Lazer   45.00\n",
            "24  2023-03-06   Conta de energia  195.00\n",
            "25  2023-03-08         Transporte   60.00\n"
          ]
        }
      ]
    },
    {
      "cell_type": "markdown",
      "source": [
        "***Agregação de Dados:*** Função Calcula a soma dos gastos por categoria."
      ],
      "metadata": {
        "id": "zQXnwG4PdUyC"
      }
    },
    {
      "cell_type": "code",
      "source": [
        "# Converter a coluna 'Data' para o tipo de data\n",
        "df['Data'] = pd.to_datetime(df['Data'])\n",
        "\n",
        "# Extraia o mês da coluna 'Data' e crie uma nova coluna 'Mês'\n",
        "df['Mês'] = df['Data'].dt.strftime('%Y-%m')\n",
        "\n",
        "# gastos por categoria (gpc)\n",
        "gpc = df.groupby(['Mês', 'Categoria'])['Valor'].sum().reset_index()\n",
        "\n",
        "# Exiba os gastos por mês e categoria\n",
        "print(gpc)"
      ],
      "metadata": {
        "colab": {
          "base_uri": "https://localhost:8080/"
        },
        "id": "mkrDEIdMdjt7",
        "outputId": "f1fbbf08-ff76-4dab-fc31-88843dfff5a4"
      },
      "execution_count": 70,
      "outputs": [
        {
          "output_type": "stream",
          "name": "stdout",
          "text": [
            "        Mês          Categoria   Valor\n",
            "0   2023-01        Alimentação  466.10\n",
            "1   2023-01  Cartão de crédito  650.00\n",
            "2   2023-01   Conta de energia  380.00\n",
            "3   2023-01  Conta de internet  126.99\n",
            "4   2023-01      Conta de água  155.76\n",
            "5   2023-01              Lazer   45.50\n",
            "6   2023-01         Transporte   30.00\n",
            "7   2023-02        Alimentação  350.40\n",
            "8   2023-02  Conta de internet  127.00\n",
            "9   2023-02      Conta de água  135.90\n",
            "10  2023-02              Lazer   75.00\n",
            "11  2023-02         Transporte   60.00\n",
            "12  2023-03        Alimentação  905.40\n",
            "13  2023-03   Conta de energia  195.00\n",
            "14  2023-03  Conta de internet  127.00\n",
            "15  2023-03      Conta de água  135.90\n",
            "16  2023-03              Lazer  145.00\n",
            "17  2023-03         Transporte   60.00\n"
          ]
        }
      ]
    },
    {
      "cell_type": "markdown",
      "source": [
        "***Filtragem de Dados:*** Seleciona apenas gastos que forem maiores que um valor específico, por exemplo, R$ 50,00."
      ],
      "metadata": {
        "id": "EAybOyThd8pp"
      }
    },
    {
      "cell_type": "code",
      "source": [
        "# Gastos acima de 50 (ga50)\n",
        "ga50 = gpc[gpc['Valor'] > 100.00]\n",
        "print(ga50)"
      ],
      "metadata": {
        "colab": {
          "base_uri": "https://localhost:8080/"
        },
        "id": "qCFG6MXDeLKS",
        "outputId": "9b380c0b-eb4f-453e-ac41-154c551f7c54"
      },
      "execution_count": 74,
      "outputs": [
        {
          "output_type": "stream",
          "name": "stdout",
          "text": [
            "        Mês          Categoria   Valor\n",
            "0   2023-01        Alimentação  466.10\n",
            "1   2023-01  Cartão de crédito  650.00\n",
            "2   2023-01   Conta de energia  380.00\n",
            "3   2023-01  Conta de internet  126.99\n",
            "4   2023-01      Conta de água  155.76\n",
            "7   2023-02        Alimentação  350.40\n",
            "8   2023-02  Conta de internet  127.00\n",
            "9   2023-02      Conta de água  135.90\n",
            "12  2023-03        Alimentação  905.40\n",
            "13  2023-03   Conta de energia  195.00\n",
            "14  2023-03  Conta de internet  127.00\n",
            "15  2023-03      Conta de água  135.90\n",
            "16  2023-03              Lazer  145.00\n"
          ]
        }
      ]
    },
    {
      "cell_type": "markdown",
      "source": [
        "***Renomear Colunas:*** Renomeie as colunas do DataFrame, se necessário."
      ],
      "metadata": {
        "id": "dpn5ZiWNee9r"
      }
    },
    {
      "cell_type": "code",
      "source": [
        "ga50.rename(columns={'Mês': 'Mês da Compra', 'Categoria': 'Tipo de Despesa'}, inplace=True)\n",
        "\n",
        "# Crie um novo DataFrame chamado 'df_transformado' com os dados transformados\n",
        "df_transformado = ga50.copy()"
      ],
      "metadata": {
        "colab": {
          "base_uri": "https://localhost:8080/"
        },
        "id": "LvMIdF3gejG0",
        "outputId": "ba01a417-0e0c-4693-f1fd-c7ca495379b7"
      },
      "execution_count": 79,
      "outputs": [
        {
          "output_type": "stream",
          "name": "stdout",
          "text": [
            "   Mês da Compra    Tipo de Despesa   Valor\n",
            "0        2023-01        Alimentação  466.10\n",
            "1        2023-01  Cartão de crédito  650.00\n",
            "2        2023-01   Conta de energia  380.00\n",
            "3        2023-01  Conta de internet  126.99\n",
            "4        2023-01      Conta de água  155.76\n",
            "7        2023-02        Alimentação  350.40\n",
            "8        2023-02  Conta de internet  127.00\n",
            "9        2023-02      Conta de água  135.90\n",
            "12       2023-03        Alimentação  905.40\n",
            "13       2023-03   Conta de energia  195.00\n",
            "14       2023-03  Conta de internet  127.00\n",
            "15       2023-03      Conta de água  135.90\n",
            "16       2023-03              Lazer  145.00\n"
          ]
        },
        {
          "output_type": "stream",
          "name": "stderr",
          "text": [
            "<ipython-input-79-689ab30f0631>:1: SettingWithCopyWarning: \n",
            "A value is trying to be set on a copy of a slice from a DataFrame\n",
            "\n",
            "See the caveats in the documentation: https://pandas.pydata.org/pandas-docs/stable/user_guide/indexing.html#returning-a-view-versus-a-copy\n",
            "  ga50.rename(columns={'Mês': 'Mês da Compra', 'Categoria': 'Tipo de Despesa'}, inplace=True)\n"
          ]
        }
      ]
    },
    {
      "cell_type": "markdown",
      "source": [
        "## Salvar os Dados (Load)"
      ],
      "metadata": {
        "id": "zlRAj1xRevzp"
      }
    },
    {
      "cell_type": "markdown",
      "source": [
        "Salve os dados transformados em um novo arquivo CSV ou em outro formato de sua escolha."
      ],
      "metadata": {
        "id": "xi4fF1vae01J"
      }
    },
    {
      "cell_type": "code",
      "source": [
        "#novo caminho do arquivo (nca)\n",
        "nca = '/content/sdw23_transformado.csv'\n",
        "\n",
        "# Salve os dados transformados em um novo arquivo CSV\n",
        "df_transformado.to_csv(nca, index=False, float_format='%.2f')"
      ],
      "metadata": {
        "id": "4nfLlAZre2wR"
      },
      "execution_count": 84,
      "outputs": []
    }
  ]
}